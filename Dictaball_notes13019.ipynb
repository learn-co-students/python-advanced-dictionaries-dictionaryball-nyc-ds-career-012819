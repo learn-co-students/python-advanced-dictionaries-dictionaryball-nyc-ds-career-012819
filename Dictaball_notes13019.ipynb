{
 "cells": [
  {
   "cell_type": "code",
   "execution_count": 1,
   "metadata": {},
   "outputs": [
    {
     "data": {
      "text/plain": [
       "{'home': {}, 'away': {}}"
      ]
     },
     "execution_count": 1,
     "metadata": {},
     "output_type": "execute_result"
    }
   ],
   "source": [
    "game_dictionary = {}\n",
    "\n",
    "def game_dict():\n",
    "    game_dictionary[\"home\"] = {}\n",
    "    game_dictionary[\"away\"] = {}\n",
    "    return game_dictionary\n",
    "\n",
    "game_dict()"
   ]
  },
  {
   "cell_type": "code",
   "execution_count": 2,
   "metadata": {},
   "outputs": [
    {
     "data": {
      "text/plain": [
       "dict_keys(['home', 'away'])"
      ]
     },
     "execution_count": 2,
     "metadata": {},
     "output_type": "execute_result"
    }
   ],
   "source": [
    "game_dictionary.keys()"
   ]
  },
  {
   "cell_type": "code",
   "execution_count": 3,
   "metadata": {},
   "outputs": [
    {
     "data": {
      "text/plain": [
       "{'home': {'team_name': '', 'colors': [], 'players': {}},\n",
       " 'away': {'team_name': '', 'colors': [], 'players': {}}}"
      ]
     },
     "execution_count": 3,
     "metadata": {},
     "output_type": "execute_result"
    }
   ],
   "source": [
    "def populate_side(side):\n",
    "    game_dictionary[side] = {\"team_name\" : \"\", \"colors\" : [], \"players\" : {}}\n",
    "\n",
    "def game_dict():\n",
    "    populate_side(\"home\")\n",
    "    populate_side(\"away\")\n",
    "    return game_dictionary\n",
    "game_dict()"
   ]
  },
  {
   "cell_type": "code",
   "execution_count": 4,
   "metadata": {},
   "outputs": [
    {
     "data": {
      "text/plain": [
       "dict_keys(['home', 'away'])"
      ]
     },
     "execution_count": 4,
     "metadata": {},
     "output_type": "execute_result"
    }
   ],
   "source": [
    "game_dictionary.keys()"
   ]
  },
  {
   "cell_type": "code",
   "execution_count": 5,
   "metadata": {},
   "outputs": [
    {
     "data": {
      "text/plain": [
       "''"
      ]
     },
     "execution_count": 5,
     "metadata": {},
     "output_type": "execute_result"
    }
   ],
   "source": [
    "game_dictionary['home']['team_name']"
   ]
  },
  {
   "cell_type": "code",
   "execution_count": 6,
   "metadata": {},
   "outputs": [],
   "source": [
    "def populate_sides():\n",
    "    game_dictionary[\"home\"] = {\"team_name\" : \"Brooklyn Nets\", \"colors\" : [\"black\", \"white\"], \"players\" : {}}\n",
    "    game_dictionary[\"away\"] = {\"team_name\" : \"Charlotte \", \"colors\" : [\"Turquoise\", \"Purple\"], \"players\" : {}}\n",
    "\n",
    "def game_dict():\n",
    "    populate_sides()\n",
    "    return game_dictionary"
   ]
  },
  {
   "cell_type": "code",
   "execution_count": 7,
   "metadata": {},
   "outputs": [
    {
     "data": {
      "text/plain": [
       "{'home': {'team_name': 'Brooklyn Nets',\n",
       "  'colors': ['black', 'white'],\n",
       "  'players': {}},\n",
       " 'away': {'team_name': 'Charlotte ',\n",
       "  'colors': ['Turquoise', 'Purple'],\n",
       "  'players': {}}}"
      ]
     },
     "execution_count": 7,
     "metadata": {},
     "output_type": "execute_result"
    }
   ],
   "source": [
    "game_dict()"
   ]
  },
  {
   "cell_type": "code",
   "execution_count": 8,
   "metadata": {},
   "outputs": [
    {
     "data": {
      "text/plain": [
       "dict_items([('home', {'team_name': 'Brooklyn Nets', 'colors': ['black', 'white'], 'players': {}}), ('away', {'team_name': 'Charlotte ', 'colors': ['Turquoise', 'Purple'], 'players': {}})])"
      ]
     },
     "execution_count": 8,
     "metadata": {},
     "output_type": "execute_result"
    }
   ],
   "source": [
    "game_dictionary.items()"
   ]
  },
  {
   "cell_type": "code",
   "execution_count": 9,
   "metadata": {},
   "outputs": [
    {
     "name": "stdout",
     "output_type": "stream",
     "text": [
      "{'team_name': 'Brooklyn Nets', 'colors': ['black', 'white'], 'players': {}}\n",
      "{'team_name': 'Charlotte ', 'colors': ['Turquoise', 'Purple'], 'players': {}}\n"
     ]
    }
   ],
   "source": [
    "for key, values in game_dictionary.items():\n",
    "    print(values)"
   ]
  },
  {
   "cell_type": "code",
   "execution_count": 10,
   "metadata": {},
   "outputs": [
    {
     "ename": "SyntaxError",
     "evalue": "invalid syntax (<ipython-input-10-eeac1a0c98b7>, line 32)",
     "output_type": "error",
     "traceback": [
      "\u001b[0;36m  File \u001b[0;32m\"<ipython-input-10-eeac1a0c98b7>\"\u001b[0;36m, line \u001b[0;32m32\u001b[0m\n\u001b[0;31m    for k, v in test\u001b[0m\n\u001b[0m                    ^\u001b[0m\n\u001b[0;31mSyntaxError\u001b[0m\u001b[0;31m:\u001b[0m invalid syntax\n"
     ]
    }
   ],
   "source": [
    "game_dictionary = {}\n",
    "\n",
    "players_names = [[\"Alan Anderson\", \"Reggie Evans\", \"Brook Lopez\", \"Mason Plumlee\", \"Jason Terry\"], [\"Jeff Adrien\", \"Bismak Biyombo\", \"DeSagna Diop\", \"Ben Gordon\", \"Brendan Haywood\"]]\n",
    "\n",
    "players_home_stats = [[0, 16, 22, 12, 12, 3, 1, 1], [30, 14, 12, 12, 12, 12, 12, 7], [11, 17, 17, 19, 10, 3, 1, 15], [1, 19, 26, 12, 6, 3, 8, 5], [31, 15, 19, 2, 2, 4, 11, 1]]\n",
    "\n",
    "players_away_stats = [[4, 18, 10, 1, 1, 2, 7, 2], [0, 16, 12, 4, 7, 7, 15, 10], [2, 14, 24, 12, 12, 4, 5, 5], [8, 15, 33, 3, 2, 1, 1, 0], [33, 15, 6, 12, 12, 22, 5, 12]]\n",
    "                      \n",
    "\n",
    "def populate_sides():\n",
    "    game_dictionary[\"home\"] = {\"team_name\" : \"Brooklyn Nets\", \"colors\" : [\"black\", \"white\"], \"players\" : {}}\n",
    "    game_dictionary[\"away\"] = {\"team_name\" : \"Charlotte \", \"colors\" : [\"Turquoise\", \"Purple\"], \"players\" : {}}\n",
    "    \n",
    "    \n",
    "\n",
    "def populate_with_player_stats():\n",
    "    stats_dict = {\"number\" : None, \"shoe\" : None, \"points\": None, \"rebounds\" : None, \"assists\" : None, \"steals\" : None, \"blocks\" : None, \"slam_dunks\" : None}\n",
    "    for key, value in game_dictionary.items():\n",
    "        if key == \"home\":\n",
    "            value[\"players\"] = {player : stats_dict for player in players_names[0]}\n",
    "\n",
    "\n",
    "def game_dict():\n",
    "    populate_sides()\n",
    "    populate_with_player_stats()\n",
    "    return game_dictionary\n",
    "\n",
    "game_dict()\n",
    "\n",
    "test = game_dictionary[\"home\"][\"players\"][\"Alan Anderson\"]\n",
    "\n",
    "for k, v in test\n"
   ]
  },
  {
   "cell_type": "code",
   "execution_count": 11,
   "metadata": {},
   "outputs": [],
   "source": [
    "def populate_stat(side, i):\n",
    "    if side == \"home\":\n",
    "        stat_dict = {\"number\" : players_home_stats[i][0], \"shoe\" : players_home_stats[i][1], \"points\": players_home_stats[i][2], \"rebounds\" : players_home_stats[i][3], \"assists\" : players_home_stats[i][4], \"steals\" : players_home_stats[i][5], \"blocks\" : players_home_stats[i][6], \"slam_dunks\" : players_home_stats[i][7]}\n",
    "    else:\n",
    "        stat_dict = {\"number\" : players_away_stats[i][0], \"shoe\" : players_away_stats[i][1], \"points\": players_away_stats[i][2], \"rebounds\" : players_away_stats[i][3], \"assists\" : players_away_stats[i][4], \"steals\" : players_away_stats[i][5], \"blocks\" : players_away_stats[i][6], \"slam_dunks\" : players_home_stats[i][7]}\n",
    "    return stat_dict"
   ]
  },
  {
   "cell_type": "code",
   "execution_count": 12,
   "metadata": {},
   "outputs": [
    {
     "ename": "NameError",
     "evalue": "name 'players_home_stats' is not defined",
     "output_type": "error",
     "traceback": [
      "\u001b[0;31m---------------------------------------------------------------------------\u001b[0m",
      "\u001b[0;31mNameError\u001b[0m                                 Traceback (most recent call last)",
      "\u001b[0;32m<ipython-input-12-b7da75b1dc16>\u001b[0m in \u001b[0;36m<module>\u001b[0;34m()\u001b[0m\n\u001b[0;32m----> 1\u001b[0;31m \u001b[0mpopulate_stat\u001b[0m\u001b[0;34m(\u001b[0m\u001b[0;34m\"home\"\u001b[0m\u001b[0;34m,\u001b[0m \u001b[0;36m1\u001b[0m\u001b[0;34m)\u001b[0m\u001b[0;34m\u001b[0m\u001b[0m\n\u001b[0m",
      "\u001b[0;32m<ipython-input-11-af3791105c57>\u001b[0m in \u001b[0;36mpopulate_stat\u001b[0;34m(side, i)\u001b[0m\n\u001b[1;32m      1\u001b[0m \u001b[0;32mdef\u001b[0m \u001b[0mpopulate_stat\u001b[0m\u001b[0;34m(\u001b[0m\u001b[0mside\u001b[0m\u001b[0;34m,\u001b[0m \u001b[0mi\u001b[0m\u001b[0;34m)\u001b[0m\u001b[0;34m:\u001b[0m\u001b[0;34m\u001b[0m\u001b[0m\n\u001b[1;32m      2\u001b[0m     \u001b[0;32mif\u001b[0m \u001b[0mside\u001b[0m \u001b[0;34m==\u001b[0m \u001b[0;34m\"home\"\u001b[0m\u001b[0;34m:\u001b[0m\u001b[0;34m\u001b[0m\u001b[0m\n\u001b[0;32m----> 3\u001b[0;31m         \u001b[0mstat_dict\u001b[0m \u001b[0;34m=\u001b[0m \u001b[0;34m{\u001b[0m\u001b[0;34m\"number\"\u001b[0m \u001b[0;34m:\u001b[0m \u001b[0mplayers_home_stats\u001b[0m\u001b[0;34m[\u001b[0m\u001b[0mi\u001b[0m\u001b[0;34m]\u001b[0m\u001b[0;34m[\u001b[0m\u001b[0;36m0\u001b[0m\u001b[0;34m]\u001b[0m\u001b[0;34m,\u001b[0m \u001b[0;34m\"shoe\"\u001b[0m \u001b[0;34m:\u001b[0m \u001b[0mplayers_home_stats\u001b[0m\u001b[0;34m[\u001b[0m\u001b[0mi\u001b[0m\u001b[0;34m]\u001b[0m\u001b[0;34m[\u001b[0m\u001b[0;36m1\u001b[0m\u001b[0;34m]\u001b[0m\u001b[0;34m,\u001b[0m \u001b[0;34m\"points\"\u001b[0m\u001b[0;34m:\u001b[0m \u001b[0mplayers_home_stats\u001b[0m\u001b[0;34m[\u001b[0m\u001b[0mi\u001b[0m\u001b[0;34m]\u001b[0m\u001b[0;34m[\u001b[0m\u001b[0;36m2\u001b[0m\u001b[0;34m]\u001b[0m\u001b[0;34m,\u001b[0m \u001b[0;34m\"rebounds\"\u001b[0m \u001b[0;34m:\u001b[0m \u001b[0mplayers_home_stats\u001b[0m\u001b[0;34m[\u001b[0m\u001b[0mi\u001b[0m\u001b[0;34m]\u001b[0m\u001b[0;34m[\u001b[0m\u001b[0;36m3\u001b[0m\u001b[0;34m]\u001b[0m\u001b[0;34m,\u001b[0m \u001b[0;34m\"assists\"\u001b[0m \u001b[0;34m:\u001b[0m \u001b[0mplayers_home_stats\u001b[0m\u001b[0;34m[\u001b[0m\u001b[0mi\u001b[0m\u001b[0;34m]\u001b[0m\u001b[0;34m[\u001b[0m\u001b[0;36m4\u001b[0m\u001b[0;34m]\u001b[0m\u001b[0;34m,\u001b[0m \u001b[0;34m\"steals\"\u001b[0m \u001b[0;34m:\u001b[0m \u001b[0mplayers_home_stats\u001b[0m\u001b[0;34m[\u001b[0m\u001b[0mi\u001b[0m\u001b[0;34m]\u001b[0m\u001b[0;34m[\u001b[0m\u001b[0;36m5\u001b[0m\u001b[0;34m]\u001b[0m\u001b[0;34m,\u001b[0m \u001b[0;34m\"blocks\"\u001b[0m \u001b[0;34m:\u001b[0m \u001b[0mplayers_home_stats\u001b[0m\u001b[0;34m[\u001b[0m\u001b[0mi\u001b[0m\u001b[0;34m]\u001b[0m\u001b[0;34m[\u001b[0m\u001b[0;36m6\u001b[0m\u001b[0;34m]\u001b[0m\u001b[0;34m,\u001b[0m \u001b[0;34m\"slam_dunks\"\u001b[0m \u001b[0;34m:\u001b[0m \u001b[0mplayers_home_stats\u001b[0m\u001b[0;34m[\u001b[0m\u001b[0mi\u001b[0m\u001b[0;34m]\u001b[0m\u001b[0;34m[\u001b[0m\u001b[0;36m7\u001b[0m\u001b[0;34m]\u001b[0m\u001b[0;34m}\u001b[0m\u001b[0;34m\u001b[0m\u001b[0m\n\u001b[0m\u001b[1;32m      4\u001b[0m     \u001b[0;32melse\u001b[0m\u001b[0;34m:\u001b[0m\u001b[0;34m\u001b[0m\u001b[0m\n\u001b[1;32m      5\u001b[0m         \u001b[0mstat_dict\u001b[0m \u001b[0;34m=\u001b[0m \u001b[0;34m{\u001b[0m\u001b[0;34m\"number\"\u001b[0m \u001b[0;34m:\u001b[0m \u001b[0mplayers_away_stats\u001b[0m\u001b[0;34m[\u001b[0m\u001b[0mi\u001b[0m\u001b[0;34m]\u001b[0m\u001b[0;34m[\u001b[0m\u001b[0;36m0\u001b[0m\u001b[0;34m]\u001b[0m\u001b[0;34m,\u001b[0m \u001b[0;34m\"shoe\"\u001b[0m \u001b[0;34m:\u001b[0m \u001b[0mplayers_away_stats\u001b[0m\u001b[0;34m[\u001b[0m\u001b[0mi\u001b[0m\u001b[0;34m]\u001b[0m\u001b[0;34m[\u001b[0m\u001b[0;36m1\u001b[0m\u001b[0;34m]\u001b[0m\u001b[0;34m,\u001b[0m \u001b[0;34m\"points\"\u001b[0m\u001b[0;34m:\u001b[0m \u001b[0mplayers_away_stats\u001b[0m\u001b[0;34m[\u001b[0m\u001b[0mi\u001b[0m\u001b[0;34m]\u001b[0m\u001b[0;34m[\u001b[0m\u001b[0;36m2\u001b[0m\u001b[0;34m]\u001b[0m\u001b[0;34m,\u001b[0m \u001b[0;34m\"rebounds\"\u001b[0m \u001b[0;34m:\u001b[0m \u001b[0mplayers_away_stats\u001b[0m\u001b[0;34m[\u001b[0m\u001b[0mi\u001b[0m\u001b[0;34m]\u001b[0m\u001b[0;34m[\u001b[0m\u001b[0;36m3\u001b[0m\u001b[0;34m]\u001b[0m\u001b[0;34m,\u001b[0m \u001b[0;34m\"assists\"\u001b[0m \u001b[0;34m:\u001b[0m \u001b[0mplayers_away_stats\u001b[0m\u001b[0;34m[\u001b[0m\u001b[0mi\u001b[0m\u001b[0;34m]\u001b[0m\u001b[0;34m[\u001b[0m\u001b[0;36m4\u001b[0m\u001b[0;34m]\u001b[0m\u001b[0;34m,\u001b[0m \u001b[0;34m\"steals\"\u001b[0m \u001b[0;34m:\u001b[0m \u001b[0mplayers_away_stats\u001b[0m\u001b[0;34m[\u001b[0m\u001b[0mi\u001b[0m\u001b[0;34m]\u001b[0m\u001b[0;34m[\u001b[0m\u001b[0;36m5\u001b[0m\u001b[0;34m]\u001b[0m\u001b[0;34m,\u001b[0m \u001b[0;34m\"blocks\"\u001b[0m \u001b[0;34m:\u001b[0m \u001b[0mplayers_away_stats\u001b[0m\u001b[0;34m[\u001b[0m\u001b[0mi\u001b[0m\u001b[0;34m]\u001b[0m\u001b[0;34m[\u001b[0m\u001b[0;36m6\u001b[0m\u001b[0;34m]\u001b[0m\u001b[0;34m,\u001b[0m \u001b[0;34m\"slam_dunks\"\u001b[0m \u001b[0;34m:\u001b[0m \u001b[0mplayers_home_stats\u001b[0m\u001b[0;34m[\u001b[0m\u001b[0mi\u001b[0m\u001b[0;34m]\u001b[0m\u001b[0;34m[\u001b[0m\u001b[0;36m7\u001b[0m\u001b[0;34m]\u001b[0m\u001b[0;34m}\u001b[0m\u001b[0;34m\u001b[0m\u001b[0m\n",
      "\u001b[0;31mNameError\u001b[0m: name 'players_home_stats' is not defined"
     ]
    }
   ],
   "source": [
    "populate_stat(\"home\", 1)"
   ]
  },
  {
   "cell_type": "code",
   "execution_count": 142,
   "metadata": {},
   "outputs": [
    {
     "data": {
      "text/plain": [
       "{'home': {'team_name': 'Brooklyn Nets',\n",
       "  'colors': ['Black', 'White'],\n",
       "  'players': {'Alan Anderson': {'number': 0,\n",
       "    'shoe': 16,\n",
       "    'points': 22,\n",
       "    'rebounds': 12,\n",
       "    'assists': 12,\n",
       "    'steals': 3,\n",
       "    'blocks': 1,\n",
       "    'slam_dunks': 1},\n",
       "   'Reggie Evans': {'number': 30,\n",
       "    'shoe': 14,\n",
       "    'points': 12,\n",
       "    'rebounds': 12,\n",
       "    'assists': 12,\n",
       "    'steals': 12,\n",
       "    'blocks': 12,\n",
       "    'slam_dunks': 7},\n",
       "   'Brook Lopez': {'number': 11,\n",
       "    'shoe': 17,\n",
       "    'points': 17,\n",
       "    'rebounds': 19,\n",
       "    'assists': 10,\n",
       "    'steals': 3,\n",
       "    'blocks': 1,\n",
       "    'slam_dunks': 15},\n",
       "   'Mason Plumlee': {'number': 1,\n",
       "    'shoe': 19,\n",
       "    'points': 26,\n",
       "    'rebounds': 12,\n",
       "    'assists': 6,\n",
       "    'steals': 3,\n",
       "    'blocks': 8,\n",
       "    'slam_dunks': 5},\n",
       "   'Jason Terry': {'number': 31,\n",
       "    'shoe': 15,\n",
       "    'points': 19,\n",
       "    'rebounds': 2,\n",
       "    'assists': 2,\n",
       "    'steals': 4,\n",
       "    'blocks': 11,\n",
       "    'slam_dunks': 1}}},\n",
       " 'away': {'team_name': 'Charlotte Hornets',\n",
       "  'colors': ['Turquoise', 'Purple'],\n",
       "  'players': {'Jeff Adrien': {'number': 4,\n",
       "    'shoe': 18,\n",
       "    'points': 10,\n",
       "    'rebounds': 1,\n",
       "    'assists': 1,\n",
       "    'steals': 2,\n",
       "    'blocks': 7,\n",
       "    'slam_dunks': 2},\n",
       "   'Bismak Biyombo': {'number': 0,\n",
       "    'shoe': 16,\n",
       "    'points': 12,\n",
       "    'rebounds': 4,\n",
       "    'assists': 7,\n",
       "    'steals': 7,\n",
       "    'blocks': 15,\n",
       "    'slam_dunks': 10},\n",
       "   'DeSagna Diop': {'number': 2,\n",
       "    'shoe': 14,\n",
       "    'points': 24,\n",
       "    'rebounds': 12,\n",
       "    'assists': 12,\n",
       "    'steals': 4,\n",
       "    'blocks': 5,\n",
       "    'slam_dunks': 5},\n",
       "   'Ben Gordon': {'number': 8,\n",
       "    'shoe': 15,\n",
       "    'points': 33,\n",
       "    'rebounds': 3,\n",
       "    'assists': 2,\n",
       "    'steals': 1,\n",
       "    'blocks': 1,\n",
       "    'slam_dunks': 0},\n",
       "   'Brendan Haywood': {'number': 33,\n",
       "    'shoe': 15,\n",
       "    'points': 6,\n",
       "    'rebounds': 12,\n",
       "    'assists': 12,\n",
       "    'steals': 22,\n",
       "    'blocks': 5,\n",
       "    'slam_dunks': 12}}}}"
      ]
     },
     "execution_count": 142,
     "metadata": {},
     "output_type": "execute_result"
    }
   ],
   "source": [
    "game_dictionary = {}\n",
    "\n",
    "players_names = [[\"Alan Anderson\", \"Reggie Evans\", \"Brook Lopez\", \"Mason Plumlee\", \"Jason Terry\"], [\"Jeff Adrien\", \"Bismak Biyombo\", \"DeSagna Diop\", \"Ben Gordon\", \"Brendan Haywood\"]]\n",
    "\n",
    "players_home_stats = [[0, 16, 22, 12, 12, 3, 1, 1], [30, 14, 12, 12, 12, 12, 12, 7], [11, 17, 17, 19, 10, 3, 1, 15], [1, 19, 26, 12, 6, 3, 8, 5], [31, 15, 19, 2, 2, 4, 11, 1]]\n",
    "\n",
    "players_away_stats = [[4, 18, 10, 1, 1, 2, 7, 2], [0, 16, 12, 4, 7, 7, 15, 10], [2, 14, 24, 12, 12, 4, 5, 5], [8, 15, 33, 3, 2, 1, 1, 0], [33, 15, 6, 12, 12, 22, 5, 12]]\n",
    "                      \n",
    "stat_categories = [\"number\", \"shoe\", \"points\", \"rebounds\", \"assists\", \"steals\", \"blocks\", \"slam_dunks\"]\n",
    "def populate_sides():\n",
    "    game_dictionary[\"home\"] = {\"team_name\" : \"Brooklyn Nets\", \"colors\" : [\"Black\", \"White\"], \"players\" : {}}\n",
    "    game_dictionary[\"away\"] = {\"team_name\" : \"Charlotte Hornets\", \"colors\" : [\"Turquoise\", \"Purple\"], \"players\" : {}}\n",
    "    \n",
    "def populate_stat(side, i):\n",
    "    if side == \"home\":\n",
    "        stat_dict = {\"number\" : players_home_stats[i][0], \"shoe\" : players_home_stats[i][1], \"points\": players_home_stats[i][2], \"rebounds\" : players_home_stats[i][3], \"assists\" : players_home_stats[i][4], \"steals\" : players_home_stats[i][5], \"blocks\" : players_home_stats[i][6], \"slam_dunks\" : players_home_stats[i][7]}\n",
    "    else:\n",
    "        stat_dict = {\"number\" : players_away_stats[i][0], \"shoe\" : players_away_stats[i][1], \"points\": players_away_stats[i][2], \"rebounds\" : players_away_stats[i][3], \"assists\" : players_away_stats[i][4], \"steals\" : players_away_stats[i][5], \"blocks\" : players_away_stats[i][6], \"slam_dunks\" : players_away_stats[i][7]}\n",
    "    return stat_dict\n",
    "\n",
    "def populate_with_players_stats():\n",
    "    for key, value in game_dictionary.items():\n",
    "        for j in range(len(players_names[0])):\n",
    "            stats = populate_stat(key, j)\n",
    "            if key == \"home\":\n",
    "                value[\"players\"][players_names[0][j]] = stats\n",
    "            elif key == \"away\":\n",
    "                value[\"players\"][players_names[1][j]] = stats\n",
    "            \n",
    "def game_dict():\n",
    "    populate_sides()\n",
    "    populate_with_players_stats()\n",
    "    return game_dictionary\n",
    "\n",
    "game_dict()"
   ]
  },
  {
   "cell_type": "code",
   "execution_count": 65,
   "metadata": {},
   "outputs": [],
   "source": [
    "def good_practices():\n",
    "    for location, team_stats in game_dict().items():\n",
    "    # are you ABSOLUTELY SURE what 'location' and 'team_stats' are? use pdb.set_trace() to find out!\n",
    "        import pdb; pdb.set_trace()\n",
    "        for stats, data in team_stats.items():\n",
    "        # are you ABSOLUTELY SURE what 'stats' and 'data' are? use pdb.set_trace() to find out!\n",
    "            import pdb; pdb.set_trace()\n",
    "        # what is 'data' at each level of the for loop block? when will we be able to iterate through a list? \n",
    "        # When would the following line of code break?\n",
    "            for item in data:\n",
    "                print(item)"
   ]
  },
  {
   "cell_type": "code",
   "execution_count": 66,
   "metadata": {},
   "outputs": [],
   "source": [
    "def num_points_scored(players_name):\n",
    "    for keys, values in game_dict().items():\n",
    "        if players_name in values[\"players\"]:\n",
    "            return values[\"players\"][players_name][\"points\"]\n"
   ]
  },
  {
   "cell_type": "code",
   "execution_count": 67,
   "metadata": {},
   "outputs": [
    {
     "data": {
      "text/plain": [
       "16"
      ]
     },
     "execution_count": 67,
     "metadata": {},
     "output_type": "execute_result"
    }
   ],
   "source": [
    "def shoe_size(players_name):\n",
    "    for keys, values in game_dict().items():\n",
    "        if players_name in values[\"players\"]:\n",
    "            return values[\"players\"][players_name][\"shoe\"]\n",
    "        \n",
    "shoe_size(\"Alan Anderson\")"
   ]
  },
  {
   "cell_type": "code",
   "execution_count": 68,
   "metadata": {},
   "outputs": [
    {
     "data": {
      "text/plain": [
       "['Turquoise', 'Purple']"
      ]
     },
     "execution_count": 68,
     "metadata": {},
     "output_type": "execute_result"
    }
   ],
   "source": [
    "def team_colors(team_name):\n",
    "    for keys, values in game_dict().items():\n",
    "        if team_name in values[\"team_name\"]:\n",
    "            return values[\"colors\"]\n",
    "        \n",
    "team_colors(\"Charlotte Hornets\")"
   ]
  },
  {
   "cell_type": "code",
   "execution_count": 69,
   "metadata": {},
   "outputs": [
    {
     "data": {
      "text/plain": [
       "'Charlotte Hornets'"
      ]
     },
     "execution_count": 69,
     "metadata": {},
     "output_type": "execute_result"
    }
   ],
   "source": [
    "game_dict()[\"away\"][\"team_name\"]"
   ]
  },
  {
   "cell_type": "code",
   "execution_count": 124,
   "metadata": {},
   "outputs": [
    {
     "data": {
      "text/plain": [
       "['Brooklyn Nets', 'Charlotte Hornets']"
      ]
     },
     "execution_count": 124,
     "metadata": {},
     "output_type": "execute_result"
    }
   ],
   "source": [
    "def team_names():\n",
    "    return [game_dict()[side]['team_name'] for side in game_dict().keys()]\n",
    "\n",
    "team_names()\n"
   ]
  },
  {
   "cell_type": "code",
   "execution_count": 123,
   "metadata": {},
   "outputs": [
    {
     "data": {
      "text/plain": [
       "['Brooklyn Nets', 'Charlotte Hornets']"
      ]
     },
     "execution_count": 123,
     "metadata": {},
     "output_type": "execute_result"
    }
   ],
   "source": [
    "teams = [game_dict()[side]['team_name'] for side in game_dict().keys()]\n",
    "teams"
   ]
  },
  {
   "cell_type": "code",
   "execution_count": 76,
   "metadata": {},
   "outputs": [
    {
     "data": {
      "text/plain": [
       "{'number': 0,\n",
       " 'shoe': 16,\n",
       " 'points': 22,\n",
       " 'rebounds': 12,\n",
       " 'assists': 12,\n",
       " 'steals': 3,\n",
       " 'blocks': 1,\n",
       " 'slam_dunks': 1}"
      ]
     },
     "execution_count": 76,
     "metadata": {},
     "output_type": "execute_result"
    }
   ],
   "source": [
    "def player_stats(players_name):\n",
    "    for keys, values in game_dict().items():\n",
    "        if players_name in values[\"players\"]:\n",
    "            return values[\"players\"][players_name]\n",
    "\n",
    "player_stats(\"Alan Anderson\")"
   ]
  },
  {
   "cell_type": "code",
   "execution_count": 94,
   "metadata": {},
   "outputs": [],
   "source": [
    "x = game_dict()[\"away\"]"
   ]
  },
  {
   "cell_type": "code",
   "execution_count": 98,
   "metadata": {},
   "outputs": [
    {
     "name": "stdout",
     "output_type": "stream",
     "text": [
      "{'Jeff Adrien': {'number': 4, 'shoe': 18, 'points': 10, 'rebounds': 1, 'assists': 1, 'steals': 2, 'blocks': 7, 'slam_dunks': 2}, 'Bismak Biyombo': {'number': 0, 'shoe': 16, 'points': 12, 'rebounds': 4, 'assists': 7, 'steals': 7, 'blocks': 15, 'slam_dunks': 10}, 'DeSagna Diop': {'number': 2, 'shoe': 14, 'points': 24, 'rebounds': 12, 'assists': 12, 'steals': 4, 'blocks': 5, 'slam_dunks': 5}, 'Ben Gordon': {'number': 8, 'shoe': 15, 'points': 33, 'rebounds': 3, 'assists': 2, 'steals': 1, 'blocks': 1, 'slam_dunks': 0}, 'Brendan Haywood': {'number': 33, 'shoe': 15, 'points': 6, 'rebounds': 12, 'assists': 12, 'steals': 22, 'blocks': 5, 'slam_dunks': 12}}\n"
     ]
    }
   ],
   "source": [
    "y = x[\"players\"]\n",
    "print(y)"
   ]
  },
  {
   "cell_type": "code",
   "execution_count": 103,
   "metadata": {},
   "outputs": [
    {
     "data": {
      "text/plain": [
       "[('home',\n",
       "  {'team_name': 'Brooklyn Nets',\n",
       "   'colors': ['Black', 'White'],\n",
       "   'players': {'Alan Anderson': {'number': 0,\n",
       "     'shoe': 16,\n",
       "     'points': 22,\n",
       "     'rebounds': 12,\n",
       "     'assists': 12,\n",
       "     'steals': 3,\n",
       "     'blocks': 1,\n",
       "     'slam_dunks': 1},\n",
       "    'Reggie Evans': {'number': 30,\n",
       "     'shoe': 14,\n",
       "     'points': 12,\n",
       "     'rebounds': 12,\n",
       "     'assists': 12,\n",
       "     'steals': 12,\n",
       "     'blocks': 12,\n",
       "     'slam_dunks': 7},\n",
       "    'Brook Lopez': {'number': 11,\n",
       "     'shoe': 17,\n",
       "     'points': 17,\n",
       "     'rebounds': 19,\n",
       "     'assists': 10,\n",
       "     'steals': 3,\n",
       "     'blocks': 1,\n",
       "     'slam_dunks': 15},\n",
       "    'Mason Plumlee': {'number': 1,\n",
       "     'shoe': 19,\n",
       "     'points': 26,\n",
       "     'rebounds': 12,\n",
       "     'assists': 6,\n",
       "     'steals': 3,\n",
       "     'blocks': 8,\n",
       "     'slam_dunks': 5},\n",
       "    'Jason Terry': {'number': 31,\n",
       "     'shoe': 15,\n",
       "     'points': 19,\n",
       "     'rebounds': 2,\n",
       "     'assists': 2,\n",
       "     'steals': 4,\n",
       "     'blocks': 11,\n",
       "     'slam_dunks': 1}}}),\n",
       " ('away',\n",
       "  {'team_name': 'Charlotte Hornets',\n",
       "   'colors': ['Turquoise', 'Purple'],\n",
       "   'players': {'Jeff Adrien': {'number': 4,\n",
       "     'shoe': 18,\n",
       "     'points': 10,\n",
       "     'rebounds': 1,\n",
       "     'assists': 1,\n",
       "     'steals': 2,\n",
       "     'blocks': 7,\n",
       "     'slam_dunks': 2},\n",
       "    'Bismak Biyombo': {'number': 0,\n",
       "     'shoe': 16,\n",
       "     'points': 12,\n",
       "     'rebounds': 4,\n",
       "     'assists': 7,\n",
       "     'steals': 7,\n",
       "     'blocks': 15,\n",
       "     'slam_dunks': 10},\n",
       "    'DeSagna Diop': {'number': 2,\n",
       "     'shoe': 14,\n",
       "     'points': 24,\n",
       "     'rebounds': 12,\n",
       "     'assists': 12,\n",
       "     'steals': 4,\n",
       "     'blocks': 5,\n",
       "     'slam_dunks': 5},\n",
       "    'Ben Gordon': {'number': 8,\n",
       "     'shoe': 15,\n",
       "     'points': 33,\n",
       "     'rebounds': 3,\n",
       "     'assists': 2,\n",
       "     'steals': 1,\n",
       "     'blocks': 1,\n",
       "     'slam_dunks': 0},\n",
       "    'Brendan Haywood': {'number': 33,\n",
       "     'shoe': 15,\n",
       "     'points': 6,\n",
       "     'rebounds': 12,\n",
       "     'assists': 12,\n",
       "     'steals': 22,\n",
       "     'blocks': 5,\n",
       "     'slam_dunks': 12}}})]"
      ]
     },
     "execution_count": 103,
     "metadata": {},
     "output_type": "execute_result"
    }
   ],
   "source": [
    "list(game_dict().items())"
   ]
  },
  {
   "cell_type": "code",
   "execution_count": 82,
   "metadata": {},
   "outputs": [],
   "source": [
    "def player_numbers(team_name):\n",
    "    numbers = []\n",
    "    for keys, values in game_dict().items():\n",
    "        if team_name in values[\"team_name\"]:\n",
    "#             for i in range(len(values[\"players\"])):\n",
    "            return [values['players'][player]['number'] for player in values[\"players\"]]"
   ]
  },
  {
   "cell_type": "code",
   "execution_count": 83,
   "metadata": {},
   "outputs": [
    {
     "data": {
      "text/plain": [
       "[4, 0, 2, 8, 33]"
      ]
     },
     "execution_count": 83,
     "metadata": {},
     "output_type": "execute_result"
    }
   ],
   "source": [
    "player_numbers(\"Charlotte Hornets\")"
   ]
  },
  {
   "cell_type": "code",
   "execution_count": 52,
   "metadata": {},
   "outputs": [
    {
     "data": {
      "text/plain": [
       "{'Jeff Adrien': {'number': '4',\n",
       "  'shoe': '18',\n",
       "  'points': '10',\n",
       "  'rebounds': '1',\n",
       "  'assists': '1',\n",
       "  'steals': '2',\n",
       "  'blocks': '7',\n",
       "  'slam dunks': '2'},\n",
       " 'Bismak Biyombo': {'number': '0',\n",
       "  'shoe': '16',\n",
       "  'points': '12',\n",
       "  'rebounds': '4',\n",
       "  'assists': '7',\n",
       "  'steals': '7',\n",
       "  'blocks': '15',\n",
       "  'slam dunks': '10'},\n",
       " 'DeSagna Diop': {'number': '2',\n",
       "  'shoe': '14',\n",
       "  'points': '24',\n",
       "  'rebounds': '12',\n",
       "  'assists': '12',\n",
       "  'steals': '4',\n",
       "  'blocks': '5',\n",
       "  'slam dunks': '5'},\n",
       " 'Ben Gordon': {'number': '8',\n",
       "  'shoe': '15',\n",
       "  'points': '33',\n",
       "  'rebounds': '3',\n",
       "  'assists': '2',\n",
       "  'steals': '1',\n",
       "  'blocks': '1',\n",
       "  'slam dunks': '0'},\n",
       " 'Brendan Haywood': {'number': '33',\n",
       "  'shoe': '15',\n",
       "  'points': '6',\n",
       "  'rebounds': '12',\n",
       "  'assists': '12',\n",
       "  'steals': '22',\n",
       "  'blocks': '5',\n",
       "  'slam dunks': '12'}}"
      ]
     },
     "execution_count": 52,
     "metadata": {},
     "output_type": "execute_result"
    }
   ],
   "source": [
    "a_dict = {}\n",
    "\n",
    "with open('away_data.txt', 'r') as f:\n",
    "    data = []\n",
    "    f_content = f.readlines()\n",
    "    for ele in f_content:\n",
    "        if ele.endswith(\"\\n\"):\n",
    "            ele = ele.replace(\"\\n\", \"\")\n",
    "        data.append(ele.split(\",\"))\n",
    "    \n",
    " \n",
    "\n",
    "for i in range(1, len(data[0])):\n",
    "    for j in range(1, len(data)):\n",
    "        if data[0][i] in a_dict:\n",
    "            a_dict[data[0][i]][data[j][0].lower()] = data[j][i]\n",
    "        else:\n",
    "            a_dict[data[0][i]] = {data[j][0].lower() : data[j][i]}\n",
    "\n",
    "            \n",
    "            \n",
    "a_dict"
   ]
  },
  {
   "cell_type": "code",
   "execution_count": 134,
   "metadata": {},
   "outputs": [
    {
     "name": "stdout",
     "output_type": "stream",
     "text": [
      "Help on class str in module builtins:\n",
      "\n",
      "class str(object)\n",
      " |  str(object='') -> str\n",
      " |  str(bytes_or_buffer[, encoding[, errors]]) -> str\n",
      " |  \n",
      " |  Create a new string object from the given object. If encoding or\n",
      " |  errors is specified, then the object must expose a data buffer\n",
      " |  that will be decoded using the given encoding and error handler.\n",
      " |  Otherwise, returns the result of object.__str__() (if defined)\n",
      " |  or repr(object).\n",
      " |  encoding defaults to sys.getdefaultencoding().\n",
      " |  errors defaults to 'strict'.\n",
      " |  \n",
      " |  Methods defined here:\n",
      " |  \n",
      " |  __add__(self, value, /)\n",
      " |      Return self+value.\n",
      " |  \n",
      " |  __contains__(self, key, /)\n",
      " |      Return key in self.\n",
      " |  \n",
      " |  __eq__(self, value, /)\n",
      " |      Return self==value.\n",
      " |  \n",
      " |  __format__(...)\n",
      " |      S.__format__(format_spec) -> str\n",
      " |      \n",
      " |      Return a formatted version of S as described by format_spec.\n",
      " |  \n",
      " |  __ge__(self, value, /)\n",
      " |      Return self>=value.\n",
      " |  \n",
      " |  __getattribute__(self, name, /)\n",
      " |      Return getattr(self, name).\n",
      " |  \n",
      " |  __getitem__(self, key, /)\n",
      " |      Return self[key].\n",
      " |  \n",
      " |  __getnewargs__(...)\n",
      " |  \n",
      " |  __gt__(self, value, /)\n",
      " |      Return self>value.\n",
      " |  \n",
      " |  __hash__(self, /)\n",
      " |      Return hash(self).\n",
      " |  \n",
      " |  __iter__(self, /)\n",
      " |      Implement iter(self).\n",
      " |  \n",
      " |  __le__(self, value, /)\n",
      " |      Return self<=value.\n",
      " |  \n",
      " |  __len__(self, /)\n",
      " |      Return len(self).\n",
      " |  \n",
      " |  __lt__(self, value, /)\n",
      " |      Return self<value.\n",
      " |  \n",
      " |  __mod__(self, value, /)\n",
      " |      Return self%value.\n",
      " |  \n",
      " |  __mul__(self, value, /)\n",
      " |      Return self*value.\n",
      " |  \n",
      " |  __ne__(self, value, /)\n",
      " |      Return self!=value.\n",
      " |  \n",
      " |  __new__(*args, **kwargs) from builtins.type\n",
      " |      Create and return a new object.  See help(type) for accurate signature.\n",
      " |  \n",
      " |  __repr__(self, /)\n",
      " |      Return repr(self).\n",
      " |  \n",
      " |  __rmod__(self, value, /)\n",
      " |      Return value%self.\n",
      " |  \n",
      " |  __rmul__(self, value, /)\n",
      " |      Return value*self.\n",
      " |  \n",
      " |  __sizeof__(...)\n",
      " |      S.__sizeof__() -> size of S in memory, in bytes\n",
      " |  \n",
      " |  __str__(self, /)\n",
      " |      Return str(self).\n",
      " |  \n",
      " |  capitalize(...)\n",
      " |      S.capitalize() -> str\n",
      " |      \n",
      " |      Return a capitalized version of S, i.e. make the first character\n",
      " |      have upper case and the rest lower case.\n",
      " |  \n",
      " |  casefold(...)\n",
      " |      S.casefold() -> str\n",
      " |      \n",
      " |      Return a version of S suitable for caseless comparisons.\n",
      " |  \n",
      " |  center(...)\n",
      " |      S.center(width[, fillchar]) -> str\n",
      " |      \n",
      " |      Return S centered in a string of length width. Padding is\n",
      " |      done using the specified fill character (default is a space)\n",
      " |  \n",
      " |  count(...)\n",
      " |      S.count(sub[, start[, end]]) -> int\n",
      " |      \n",
      " |      Return the number of non-overlapping occurrences of substring sub in\n",
      " |      string S[start:end].  Optional arguments start and end are\n",
      " |      interpreted as in slice notation.\n",
      " |  \n",
      " |  encode(...)\n",
      " |      S.encode(encoding='utf-8', errors='strict') -> bytes\n",
      " |      \n",
      " |      Encode S using the codec registered for encoding. Default encoding\n",
      " |      is 'utf-8'. errors may be given to set a different error\n",
      " |      handling scheme. Default is 'strict' meaning that encoding errors raise\n",
      " |      a UnicodeEncodeError. Other possible values are 'ignore', 'replace' and\n",
      " |      'xmlcharrefreplace' as well as any other name registered with\n",
      " |      codecs.register_error that can handle UnicodeEncodeErrors.\n",
      " |  \n",
      " |  endswith(...)\n",
      " |      S.endswith(suffix[, start[, end]]) -> bool\n",
      " |      \n",
      " |      Return True if S ends with the specified suffix, False otherwise.\n",
      " |      With optional start, test S beginning at that position.\n",
      " |      With optional end, stop comparing S at that position.\n",
      " |      suffix can also be a tuple of strings to try.\n",
      " |  \n",
      " |  expandtabs(...)\n",
      " |      S.expandtabs(tabsize=8) -> str\n",
      " |      \n",
      " |      Return a copy of S where all tab characters are expanded using spaces.\n",
      " |      If tabsize is not given, a tab size of 8 characters is assumed.\n",
      " |  \n",
      " |  find(...)\n",
      " |      S.find(sub[, start[, end]]) -> int\n",
      " |      \n",
      " |      Return the lowest index in S where substring sub is found,\n",
      " |      such that sub is contained within S[start:end].  Optional\n",
      " |      arguments start and end are interpreted as in slice notation.\n",
      " |      \n",
      " |      Return -1 on failure.\n",
      " |  \n",
      " |  format(...)\n",
      " |      S.format(*args, **kwargs) -> str\n",
      " |      \n",
      " |      Return a formatted version of S, using substitutions from args and kwargs.\n",
      " |      The substitutions are identified by braces ('{' and '}').\n",
      " |  \n",
      " |  format_map(...)\n",
      " |      S.format_map(mapping) -> str\n",
      " |      \n",
      " |      Return a formatted version of S, using substitutions from mapping.\n",
      " |      The substitutions are identified by braces ('{' and '}').\n",
      " |  \n",
      " |  index(...)\n",
      " |      S.index(sub[, start[, end]]) -> int\n",
      " |      \n",
      " |      Return the lowest index in S where substring sub is found, \n",
      " |      such that sub is contained within S[start:end].  Optional\n",
      " |      arguments start and end are interpreted as in slice notation.\n",
      " |      \n",
      " |      Raises ValueError when the substring is not found.\n",
      " |  \n",
      " |  isalnum(...)\n",
      " |      S.isalnum() -> bool\n",
      " |      \n",
      " |      Return True if all characters in S are alphanumeric\n",
      " |      and there is at least one character in S, False otherwise.\n",
      " |  \n",
      " |  isalpha(...)\n",
      " |      S.isalpha() -> bool\n",
      " |      \n",
      " |      Return True if all characters in S are alphabetic\n",
      " |      and there is at least one character in S, False otherwise.\n",
      " |  \n",
      " |  isdecimal(...)\n",
      " |      S.isdecimal() -> bool\n",
      " |      \n",
      " |      Return True if there are only decimal characters in S,\n",
      " |      False otherwise.\n",
      " |  \n",
      " |  isdigit(...)\n",
      " |      S.isdigit() -> bool\n",
      " |      \n",
      " |      Return True if all characters in S are digits\n",
      " |      and there is at least one character in S, False otherwise.\n",
      " |  \n",
      " |  isidentifier(...)\n",
      " |      S.isidentifier() -> bool\n",
      " |      \n",
      " |      Return True if S is a valid identifier according\n",
      " |      to the language definition.\n",
      " |      \n",
      " |      Use keyword.iskeyword() to test for reserved identifiers\n",
      " |      such as \"def\" and \"class\".\n",
      " |  \n",
      " |  islower(...)\n",
      " |      S.islower() -> bool\n",
      " |      \n",
      " |      Return True if all cased characters in S are lowercase and there is\n",
      " |      at least one cased character in S, False otherwise.\n",
      " |  \n",
      " |  isnumeric(...)\n",
      " |      S.isnumeric() -> bool\n",
      " |      \n",
      " |      Return True if there are only numeric characters in S,\n",
      " |      False otherwise.\n",
      " |  \n",
      " |  isprintable(...)\n",
      " |      S.isprintable() -> bool\n",
      " |      \n",
      " |      Return True if all characters in S are considered\n",
      " |      printable in repr() or S is empty, False otherwise.\n",
      " |  \n",
      " |  isspace(...)\n",
      " |      S.isspace() -> bool\n",
      " |      \n",
      " |      Return True if all characters in S are whitespace\n",
      " |      and there is at least one character in S, False otherwise.\n",
      " |  \n",
      " |  istitle(...)\n",
      " |      S.istitle() -> bool\n",
      " |      \n",
      " |      Return True if S is a titlecased string and there is at least one\n",
      " |      character in S, i.e. upper- and titlecase characters may only\n",
      " |      follow uncased characters and lowercase characters only cased ones.\n",
      " |      Return False otherwise.\n",
      " |  \n",
      " |  isupper(...)\n",
      " |      S.isupper() -> bool\n",
      " |      \n",
      " |      Return True if all cased characters in S are uppercase and there is\n",
      " |      at least one cased character in S, False otherwise.\n",
      " |  \n",
      " |  join(...)\n",
      " |      S.join(iterable) -> str\n",
      " |      \n",
      " |      Return a string which is the concatenation of the strings in the\n",
      " |      iterable.  The separator between elements is S.\n",
      " |  \n",
      " |  ljust(...)\n",
      " |      S.ljust(width[, fillchar]) -> str\n",
      " |      \n",
      " |      Return S left-justified in a Unicode string of length width. Padding is\n",
      " |      done using the specified fill character (default is a space).\n",
      " |  \n",
      " |  lower(...)\n",
      " |      S.lower() -> str\n",
      " |      \n",
      " |      Return a copy of the string S converted to lowercase.\n",
      " |  \n",
      " |  lstrip(...)\n",
      " |      S.lstrip([chars]) -> str\n",
      " |      \n",
      " |      Return a copy of the string S with leading whitespace removed.\n",
      " |      If chars is given and not None, remove characters in chars instead.\n",
      " |  \n",
      " |  partition(...)\n",
      " |      S.partition(sep) -> (head, sep, tail)\n",
      " |      \n",
      " |      Search for the separator sep in S, and return the part before it,\n",
      " |      the separator itself, and the part after it.  If the separator is not\n",
      " |      found, return S and two empty strings.\n",
      " |  \n",
      " |  replace(...)\n",
      " |      S.replace(old, new[, count]) -> str\n",
      " |      \n",
      " |      Return a copy of S with all occurrences of substring\n",
      " |      old replaced by new.  If the optional argument count is\n",
      " |      given, only the first count occurrences are replaced.\n",
      " |  \n",
      " |  rfind(...)\n",
      " |      S.rfind(sub[, start[, end]]) -> int\n",
      " |      \n",
      " |      Return the highest index in S where substring sub is found,\n",
      " |      such that sub is contained within S[start:end].  Optional\n",
      " |      arguments start and end are interpreted as in slice notation.\n",
      " |      \n",
      " |      Return -1 on failure.\n",
      " |  \n",
      " |  rindex(...)\n",
      " |      S.rindex(sub[, start[, end]]) -> int\n",
      " |      \n",
      " |      Return the highest index in S where substring sub is found,\n",
      " |      such that sub is contained within S[start:end].  Optional\n",
      " |      arguments start and end are interpreted as in slice notation.\n",
      " |      \n",
      " |      Raises ValueError when the substring is not found.\n",
      " |  \n",
      " |  rjust(...)\n",
      " |      S.rjust(width[, fillchar]) -> str\n",
      " |      \n",
      " |      Return S right-justified in a string of length width. Padding is\n",
      " |      done using the specified fill character (default is a space).\n",
      " |  \n",
      " |  rpartition(...)\n",
      " |      S.rpartition(sep) -> (head, sep, tail)\n",
      " |      \n",
      " |      Search for the separator sep in S, starting at the end of S, and return\n",
      " |      the part before it, the separator itself, and the part after it.  If the\n",
      " |      separator is not found, return two empty strings and S.\n",
      " |  \n",
      " |  rsplit(...)\n",
      " |      S.rsplit(sep=None, maxsplit=-1) -> list of strings\n",
      " |      \n",
      " |      Return a list of the words in S, using sep as the\n",
      " |      delimiter string, starting at the end of the string and\n",
      " |      working to the front.  If maxsplit is given, at most maxsplit\n",
      " |      splits are done. If sep is not specified, any whitespace string\n",
      " |      is a separator.\n",
      " |  \n",
      " |  rstrip(...)\n",
      " |      S.rstrip([chars]) -> str\n",
      " |      \n",
      " |      Return a copy of the string S with trailing whitespace removed.\n",
      " |      If chars is given and not None, remove characters in chars instead.\n",
      " |  \n",
      " |  split(...)\n",
      " |      S.split(sep=None, maxsplit=-1) -> list of strings\n",
      " |      \n",
      " |      Return a list of the words in S, using sep as the\n",
      " |      delimiter string.  If maxsplit is given, at most maxsplit\n",
      " |      splits are done. If sep is not specified or is None, any\n",
      " |      whitespace string is a separator and empty strings are\n",
      " |      removed from the result.\n",
      " |  \n",
      " |  splitlines(...)\n",
      " |      S.splitlines([keepends]) -> list of strings\n",
      " |      \n",
      " |      Return a list of the lines in S, breaking at line boundaries.\n",
      " |      Line breaks are not included in the resulting list unless keepends\n",
      " |      is given and true.\n",
      " |  \n",
      " |  startswith(...)\n",
      " |      S.startswith(prefix[, start[, end]]) -> bool\n",
      " |      \n",
      " |      Return True if S starts with the specified prefix, False otherwise.\n",
      " |      With optional start, test S beginning at that position.\n",
      " |      With optional end, stop comparing S at that position.\n",
      " |      prefix can also be a tuple of strings to try.\n",
      " |  \n",
      " |  strip(...)\n",
      " |      S.strip([chars]) -> str\n",
      " |      \n",
      " |      Return a copy of the string S with leading and trailing\n",
      " |      whitespace removed.\n",
      " |      If chars is given and not None, remove characters in chars instead.\n",
      " |  \n",
      " |  swapcase(...)\n",
      " |      S.swapcase() -> str\n",
      " |      \n",
      " |      Return a copy of S with uppercase characters converted to lowercase\n",
      " |      and vice versa.\n",
      " |  \n",
      " |  title(...)\n",
      " |      S.title() -> str\n",
      " |      \n",
      " |      Return a titlecased version of S, i.e. words start with title case\n",
      " |      characters, all remaining cased characters have lower case.\n",
      " |  \n",
      " |  translate(...)\n",
      " |      S.translate(table) -> str\n",
      " |      \n",
      " |      Return a copy of the string S in which each character has been mapped\n",
      " |      through the given translation table. The table must implement\n",
      " |      lookup/indexing via __getitem__, for instance a dictionary or list,\n",
      " |      mapping Unicode ordinals to Unicode ordinals, strings, or None. If\n",
      " |      this operation raises LookupError, the character is left untouched.\n",
      " |      Characters mapped to None are deleted.\n",
      " |  \n",
      " |  upper(...)\n",
      " |      S.upper() -> str\n",
      " |      \n",
      " |      Return a copy of S converted to uppercase.\n",
      " |  \n",
      " |  zfill(...)\n",
      " |      S.zfill(width) -> str\n",
      " |      \n",
      " |      Pad a numeric string S with zeros on the left, to fill a field\n",
      " |      of the specified width. The string S is never truncated.\n",
      " |  \n",
      " |  ----------------------------------------------------------------------\n",
      " |  Static methods defined here:\n",
      " |  \n",
      " |  maketrans(x, y=None, z=None, /)\n",
      " |      Return a translation table usable for str.translate().\n",
      " |      \n",
      " |      If there is only one argument, it must be a dictionary mapping Unicode\n",
      " |      ordinals (integers) or characters to Unicode ordinals, strings or None.\n",
      " |      Character keys will be then converted to ordinals.\n",
      " |      If there are two arguments, they must be strings of equal length, and\n",
      " |      in the resulting dictionary, each character in x will be mapped to the\n",
      " |      character at the same position in y. If there is a third argument, it\n",
      " |      must be a string, whose characters will be mapped to None in the result.\n",
      "\n"
     ]
    }
   ],
   "source": [
    "help(str)"
   ]
  },
  {
   "cell_type": "code",
   "execution_count": 158,
   "metadata": {},
   "outputs": [],
   "source": [
    "def player_numbers(team_name):\n",
    "    numbers = []\n",
    "    for keys, values in game_dict().items():\n",
    "        if team_name in values[\"team_name\"]:\n",
    "            return [values['players'][player]['number'] for player in values[\"players\"]]"
   ]
  },
  {
   "cell_type": "code",
   "execution_count": 159,
   "metadata": {},
   "outputs": [
    {
     "data": {
      "text/plain": [
       "[0, 30, 11, 1, 31]"
      ]
     },
     "execution_count": 159,
     "metadata": {},
     "output_type": "execute_result"
    }
   ],
   "source": [
    "player_numbers(\"Brooklyn Nets\")"
   ]
  },
  {
   "cell_type": "code",
   "execution_count": 22,
   "metadata": {},
   "outputs": [],
   "source": [
    "game_dictionary = {}\n",
    "\n",
    "players_names = [[\"Alan Anderson\", \"Reggie Evans\", \"Brook Lopez\", \"Mason Plumlee\", \"Jason Terry\"], [\"Jeff Adrien\", \"Bismak Biyombo\", \"DeSagna Diop\", \"Ben Gordon\", \"Brendan Haywood\"]]\n",
    "\n",
    "players_home_stats = [[0, 16, 22, 12, 12, 3, 1, 1], [30, 14, 12, 12, 12, 12, 12, 7], [11, 17, 17, 19, 10, 3, 1, 15], [1, 19, 26, 12, 6, 3, 8, 5], [31, 15, 19, 2, 2, 4, 11, 1]]\n",
    "\n",
    "players_away_stats = [[4, 18, 10, 1, 1, 2, 7, 2], [0, 16, 12, 4, 7, 7, 15, 10], [2, 14, 24, 12, 12, 4, 5, 5], [8, 15, 33, 3, 2, 1, 1, 0], [33, 15, 6, 12, 12, 22, 5, 12]]\n",
    "                      \n",
    "stat_categories = [\"number\", \"shoe\", \"points\", \"rebounds\", \"assists\", \"steals\", \"blocks\", \"slam_dunks\"]\n",
    "def populate_sides():\n",
    "    game_dictionary[\"home\"] = {\"team_name\" : \"Brooklyn Nets\", \"colors\" : [\"Black\", \"White\"], \"players\" : {}}\n",
    "    game_dictionary[\"away\"] = {\"team_name\" : \"Charlotte Hornet\", \"colors\" : [\"Turquoise\", \"Purple\"], \"players\" : {}}\n",
    "    \n",
    "def populate_stat(side, i):\n",
    "    if side == \"home\":\n",
    "        stat_dict = {\"number\" : players_home_stats[i][0], \"shoe\" : players_home_stats[i][1], \"points\": players_home_stats[i][2], \"rebounds\" : players_home_stats[i][3], \"assists\" : players_home_stats[i][4], \"steals\" : players_home_stats[i][5], \"blocks\" : players_home_stats[i][6], \"slam_dunks\" : players_home_stats[i][7]}\n",
    "    else:\n",
    "        stat_dict = {\"number\" : players_away_stats[i][0], \"shoe\" : players_away_stats[i][1], \"points\": players_away_stats[i][2], \"rebounds\" : players_away_stats[i][3], \"assists\" : players_away_stats[i][4], \"steals\" : players_away_stats[i][5], \"blocks\" : players_away_stats[i][6], \"slam_dunks\" : players_away_stats[i][7]}\n",
    "    return stat_dict\n",
    "\n",
    "def populate_with_players_stats():\n",
    "    for key, value in game_dictionary.items():\n",
    "        for j in range(len(players_names[0])):\n",
    "            stats = populate_stat(key, j)\n",
    "            if key == \"home\":\n",
    "                value[\"players\"][players_names[0][j]] = stats\n",
    "            elif key == \"away\":\n",
    "                value[\"players\"][players_names[1][j]] = stats\n",
    "            \n",
    "def game_dict():\n",
    "    populate_sides()\n",
    "    populate_with_players_stats()\n",
    "    return game_dictionary\n",
    "\n",
    "# def good_practices():\n",
    "#     for location, team_stats in game_dict().items():\n",
    "#     # are you ABSOLUTELY SURE what 'location' and 'team_stats' are? use pdb.set_trace() to find out!\n",
    "#         import pdb; pdb.set_trace()\n",
    "#         for stats, data in team_stats.items():\n",
    "#         # are you ABSOLUTELY SURE what 'stats' and 'data' are? use pdb.set_trace() to find out!\n",
    "#             import pdb; pdb.set_trace()\n",
    "#         # what is 'data' at each level of the for loop block? when will we be able to iterate through a list? \n",
    "#         # When would the following line of code break?\n",
    "#             for item in data:\n",
    "#                 print(item)\n",
    "# good_practices()\n",
    "\n",
    "def num_points_scored(players_name):\n",
    "    for keys, values in game_dict().items():\n",
    "        if players_name in values[\"players\"]:\n",
    "            return values[\"players\"][players_name][\"points\"]\n",
    "\n",
    "def shoe_size(players_name):\n",
    "    for keys, values in game_dict().items():\n",
    "        if players_name in values[\"players\"]:\n",
    "            return values[\"players\"][players_name][\"shoe\"]\n",
    "        \n",
    "def team_colors(team_name):\n",
    "    for keys, values in game_dict().items():\n",
    "        if team_name in values[\"team_name\"]:\n",
    "            return values[\"colors\"]\n",
    "\n",
    "def team_names():\n",
    "    return  [game_dict()[side]['team_name'] for side in game_dict().keys()]\n",
    "\n",
    "def player_numbers(team_name):\n",
    "    numbers = []\n",
    "    for keys, values in game_dict().items():\n",
    "        if team_name in values[\"team_name\"]:\n",
    "            return [values['players'][player]['number'] for player in values[\"players\"]]\n",
    "\n",
    "def player_stats(players_name):\n",
    "    for keys, values in game_dict().items():\n",
    "        if players_name in values[\"players\"]:\n",
    "            return values[\"players\"][players_name]"
   ]
  },
  {
   "cell_type": "code",
   "execution_count": 31,
   "metadata": {},
   "outputs": [
    {
     "data": {
      "text/plain": [
       "[0, 30, 11, 1, 31]"
      ]
     },
     "execution_count": 31,
     "metadata": {},
     "output_type": "execute_result"
    }
   ],
   "source": [
    "player_numbers('Brooklyn Nets')"
   ]
  },
  {
   "cell_type": "code",
   "execution_count": 27,
   "metadata": {},
   "outputs": [
    {
     "data": {
      "text/plain": [
       "['Brooklyn Nets', 'Charlotte Hornet']"
      ]
     },
     "execution_count": 27,
     "metadata": {},
     "output_type": "execute_result"
    }
   ],
   "source": [
    "team_names()"
   ]
  },
  {
   "cell_type": "code",
   "execution_count": 29,
   "metadata": {},
   "outputs": [
    {
     "data": {
      "text/plain": [
       "['Black', 'White']"
      ]
     },
     "execution_count": 29,
     "metadata": {},
     "output_type": "execute_result"
    }
   ],
   "source": [
    "team_colors('Brooklyn Nets')"
   ]
  },
  {
   "cell_type": "code",
   "execution_count": 79,
   "metadata": {},
   "outputs": [],
   "source": [
    "game_dictionary = {}\n",
    "\n",
    "\n",
    "# players_names = [[\"Alan Anderson\", \"Reggie Evans\", \"Brook Lopez\", \"Mason Plumlee\", \"Jason Terry\"], [\"Jeff Adrien\", \"Bismak Biyombo\", \"DeSagna Diop\", \"Ben Gordon\", \"Brendan Haywood\"]]\n",
    "\n",
    "# players_home_stats = [[0, 16, 22, 12, 12, 3, 1, 1], [30, 14, 12, 12, 12, 12, 12, 7], [11, 17, 17, 19, 10, 3, 1, 15], [1, 19, 26, 12, 6, 3, 8, 5], [31, 15, 19, 2, 2, 4, 11, 1]]\n",
    "\n",
    "# players_away_stats = [[4, 18, 10, 1, 1, 2, 7, 2], [0, 16, 12, 4, 7, 7, 15, 10], [2, 14, 24, 12, 12, 4, 5, 5], [8, 15, 33, 3, 2, 1, 1, 0], [33, 15, 6, 12, 12, 22, 5, 12]]\n",
    "                      \n",
    "# stat_categories = [\"number\", \"shoe\", \"points\", \"rebounds\", \"assists\", \"steals\", \"blocks\", \"slam_dunks\"]\n",
    "def populate_sides():\n",
    "    game_dictionary[\"home\"] = {\"team_name\" : \"Brooklyn Nets\", \"colors\" : [\"Black\", \"White\"], \"players\" : {}}\n",
    "    game_dictionary[\"away\"] = {\"team_name\" : \"Charlotte Hornets\", \"colors\" : [\"Turquoise\", \"Purple\"], \"players\" : {}}\n",
    "    \n",
    "def populate_stat(side):\n",
    "    with open(f'{side}_data.txt', 'r') as f:\n",
    "        data = []\n",
    "        f_content = f.readlines()\n",
    "        for ele in f_content:\n",
    "            if ele.endswith(\"\\n\"):\n",
    "                ele = ele.replace(\"\\n\", \"\")\n",
    "            data.append(ele.split(\",\"))\n",
    "\n",
    "        stat_dict = {}\n",
    "        for i in range(1, len(data[0])):\n",
    "            for j in range(1, len(data)):\n",
    "                if data[0][i] in stat_dict:\n",
    "                    stat_dict[data[0][i]][data[j][0].lower()] = int(data[j][i])\n",
    "                else:\n",
    "                    stat_dict[data[0][i]] = {data[j][0].lower() : int(data[j][i])}\n",
    "\n",
    "    return stat_dict\n",
    "\n",
    "def populate_with_players_stats():\n",
    "    for key, value in game_dictionary.items():\n",
    "        stats = populate_stat(key)\n",
    "        if key == \"home\":\n",
    "            value[\"players\"] = stats\n",
    "        elif key == \"away\":\n",
    "            value[\"players\"] = stats\n",
    "\n",
    "def game_dict():\n",
    "    populate_sides()\n",
    "    populate_with_players_stats()\n",
    "    return game_dictionary\n",
    "\n",
    "# def good_practices():\n",
    "#     for location, team_stats in game_dict().items():\n",
    "#     # are you ABSOLUTELY SURE what 'location' and 'team_stats' are? use pdb.set_trace() to find out!\n",
    "#         import pdb; pdb.set_trace()\n",
    "#         for stats, data in team_stats.items():\n",
    "#         # are you ABSOLUTELY SURE what 'stats' and 'data' are? use pdb.set_trace() to find out!\n",
    "#             import pdb; pdb.set_trace()\n",
    "#         # what is 'data' at each level of the for loop block? when will we be able to iterate through a list? \n",
    "#         # When would the following line of code break?\n",
    "#             for item in data:\n",
    "#                 print(item)\n",
    "# good_practices()\n",
    "\n",
    "def num_points_scored(players_name):\n",
    "    for values in game_dict().values():\n",
    "        if players_name in values[\"players\"]:\n",
    "            return values[\"players\"][players_name][\"points\"]\n",
    "\n",
    "def shoe_size(players_name):\n",
    "    for values in game_dict().values():\n",
    "        if players_name in values[\"players\"]:\n",
    "            return values[\"players\"][players_name][\"shoe\"]\n",
    "\n",
    "def team_colors(team_name):\n",
    "    for values in game_dict().values():\n",
    "        if team_name in values[\"team_name\"]:\n",
    "            return values[\"colors\"]\n",
    "        \n",
    "def team_names():\n",
    "    return  [game_dict()[side]['team_name'] for side in game_dict().keys()]\n",
    "\n",
    "def player_numbers(team_name):\n",
    "    for values in game_dict().values():\n",
    "        if team_name in values[\"team_name\"]:\n",
    "            return [values['players'][player]['number'] for player in values[\"players\"]]\n",
    "\n",
    "def player_stats(players_name):\n",
    "    for values in game_dict().values():\n",
    "        if players_name in values[\"players\"]:\n",
    "            return values[\"players\"][players_name]\n",
    "\n",
    "\n"
   ]
  },
  {
   "cell_type": "code",
   "execution_count": 80,
   "metadata": {},
   "outputs": [
    {
     "data": {
      "text/plain": [
       "['Brooklyn Nets', 'Charlotte Hornets']"
      ]
     },
     "execution_count": 80,
     "metadata": {},
     "output_type": "execute_result"
    }
   ],
   "source": [
    "team_names()"
   ]
  },
  {
   "cell_type": "code",
   "execution_count": 81,
   "metadata": {},
   "outputs": [
    {
     "data": {
      "text/plain": [
       "{'number': 31,\n",
       " 'shoe': 15,\n",
       " 'points': 19,\n",
       " 'rebounds': 2,\n",
       " 'assists': 2,\n",
       " 'steals': 4,\n",
       " 'blocks': 11,\n",
       " 'slam_dunks': 1}"
      ]
     },
     "execution_count": 81,
     "metadata": {},
     "output_type": "execute_result"
    }
   ],
   "source": [
    "player_stats('Jason Terry')"
   ]
  },
  {
   "cell_type": "code",
   "execution_count": 82,
   "metadata": {},
   "outputs": [
    {
     "data": {
      "text/plain": [
       "'Hello World'"
      ]
     },
     "execution_count": 82,
     "metadata": {},
     "output_type": "execute_result"
    }
   ],
   "source": [
    "x = \"Hello World\"\n",
    "(x)"
   ]
  },
  {
   "cell_type": "code",
   "execution_count": 98,
   "metadata": {},
   "outputs": [],
   "source": [
    "def big_shoe_rebounds():\n",
    "    max_shoe = 0\n",
    "    player = None\n",
    "    for values in game_dict().values():\n",
    "        for key in values[\"players\"].keys():\n",
    "            if shoe_size(key) > max_shoe:\n",
    "                max_shoe = shoe_size(key)\n",
    "                player = key\n",
    "    return player_stats(player)['rebounds']"
   ]
  },
  {
   "cell_type": "code",
   "execution_count": 89,
   "metadata": {},
   "outputs": [
    {
     "data": {
      "text/plain": [
       "12"
      ]
     },
     "execution_count": 89,
     "metadata": {},
     "output_type": "execute_result"
    }
   ],
   "source": [
    "big_shoe_rebounds()"
   ]
  },
  {
   "cell_type": "code",
   "execution_count": 92,
   "metadata": {},
   "outputs": [],
   "source": [
    "def create_top_level():\n",
    "    g_dict = {}\n",
    "    g_dict[\"home\"] = {\"team_name\" : \"Brooklyn Nets\", \"colors\" : [\"Black\", \"White\"], \"players\" : {}}\n",
    "    g_dict[\"away\"] = {\"team_name\" : \"Charlotte Hornets\", \"colors\" : [\"Turquoise\", \"Purple\"], \"players\" : {}}\n",
    "    return g_dict\n",
    "    \n",
    "def populate_stat(side):\n",
    "    with open(f'{side}_data.txt', 'r') as f:\n",
    "        data = []\n",
    "        f_content = f.readlines()\n",
    "        for ele in f_content:\n",
    "            if ele.endswith(\"\\n\"):\n",
    "                ele = ele.replace(\"\\n\", \"\")\n",
    "            data.append(ele.split(\",\"))\n",
    "\n",
    "        stat_dict = {}\n",
    "        for i in range(1, len(data[0])):\n",
    "            for j in range(1, len(data)):\n",
    "                if data[0][i] in stat_dict:\n",
    "                    stat_dict[data[0][i]][data[j][0].lower()] = int(data[j][i])\n",
    "                else:\n",
    "                    stat_dict[data[0][i]] = {data[j][0].lower() : int(data[j][i])}\n",
    "\n",
    "    return stat_dict   \n",
    "            \n",
    "def game_dict():\n",
    "    game_dictionary = create_top_level()\n",
    "    for key, value in game_dictionary.items():\n",
    "        stats = populate_stat(key)\n",
    "        if key == \"home\":\n",
    "            value[\"players\"] = stats\n",
    "        elif key == \"away\":\n",
    "            value[\"players\"] = stats\n",
    "    return game_dictionary"
   ]
  },
  {
   "cell_type": "code",
   "execution_count": 93,
   "metadata": {},
   "outputs": [
    {
     "data": {
      "text/plain": [
       "{'home': {'team_name': 'Brooklyn Nets',\n",
       "  'colors': ['Black', 'White'],\n",
       "  'players': {'Alan Anderson': {'number': 0,\n",
       "    'shoe': 16,\n",
       "    'points': 22,\n",
       "    'rebounds': 12,\n",
       "    'assists': 12,\n",
       "    'steals': 3,\n",
       "    'blocks': 1,\n",
       "    'slam_dunks': 1},\n",
       "   'Reggie Evans': {'number': 30,\n",
       "    'shoe': 14,\n",
       "    'points': 12,\n",
       "    'rebounds': 12,\n",
       "    'assists': 12,\n",
       "    'steals': 12,\n",
       "    'blocks': 12,\n",
       "    'slam_dunks': 7},\n",
       "   'Brook Lopez': {'number': 11,\n",
       "    'shoe': 17,\n",
       "    'points': 17,\n",
       "    'rebounds': 19,\n",
       "    'assists': 10,\n",
       "    'steals': 3,\n",
       "    'blocks': 1,\n",
       "    'slam_dunks': 15},\n",
       "   'Mason Plumlee': {'number': 1,\n",
       "    'shoe': 19,\n",
       "    'points': 26,\n",
       "    'rebounds': 12,\n",
       "    'assists': 6,\n",
       "    'steals': 3,\n",
       "    'blocks': 8,\n",
       "    'slam_dunks': 5},\n",
       "   'Jason Terry': {'number': 31,\n",
       "    'shoe': 15,\n",
       "    'points': 19,\n",
       "    'rebounds': 2,\n",
       "    'assists': 2,\n",
       "    'steals': 4,\n",
       "    'blocks': 11,\n",
       "    'slam_dunks': 1}}},\n",
       " 'away': {'team_name': 'Charlotte Hornets',\n",
       "  'colors': ['Turquoise', 'Purple'],\n",
       "  'players': {'Jeff Adrien': {'number': 4,\n",
       "    'shoe': 18,\n",
       "    'points': 10,\n",
       "    'rebounds': 1,\n",
       "    'assists': 1,\n",
       "    'steals': 2,\n",
       "    'blocks': 7,\n",
       "    'slam_dunks': 2},\n",
       "   'Bismak Biyombo': {'number': 0,\n",
       "    'shoe': 16,\n",
       "    'points': 12,\n",
       "    'rebounds': 4,\n",
       "    'assists': 7,\n",
       "    'steals': 7,\n",
       "    'blocks': 15,\n",
       "    'slam_dunks': 10},\n",
       "   'DeSagna Diop': {'number': 2,\n",
       "    'shoe': 14,\n",
       "    'points': 24,\n",
       "    'rebounds': 12,\n",
       "    'assists': 12,\n",
       "    'steals': 4,\n",
       "    'blocks': 5,\n",
       "    'slam_dunks': 5},\n",
       "   'Ben Gordon': {'number': 8,\n",
       "    'shoe': 15,\n",
       "    'points': 33,\n",
       "    'rebounds': 3,\n",
       "    'assists': 2,\n",
       "    'steals': 1,\n",
       "    'blocks': 1,\n",
       "    'slam_dunks': 0},\n",
       "   'Brendan Haywood': {'number': 33,\n",
       "    'shoe': 15,\n",
       "    'points': 6,\n",
       "    'rebounds': 12,\n",
       "    'assists': 12,\n",
       "    'steals': 22,\n",
       "    'blocks': 5,\n",
       "    'slam_dunks': 12}}}}"
      ]
     },
     "execution_count": 93,
     "metadata": {},
     "output_type": "execute_result"
    }
   ],
   "source": [
    " game_dict()"
   ]
  },
  {
   "cell_type": "code",
   "execution_count": 100,
   "metadata": {},
   "outputs": [
    {
     "data": {
      "text/plain": [
       "12"
      ]
     },
     "execution_count": 100,
     "metadata": {},
     "output_type": "execute_result"
    }
   ],
   "source": [
    "big_shoe_rebounds()"
   ]
  },
  {
   "cell_type": "code",
   "execution_count": 101,
   "metadata": {},
   "outputs": [
    {
     "data": {
      "text/plain": [
       "{'number': 31,\n",
       " 'shoe': 15,\n",
       " 'points': 19,\n",
       " 'rebounds': 2,\n",
       " 'assists': 2,\n",
       " 'steals': 4,\n",
       " 'blocks': 11,\n",
       " 'slam_dunks': 1}"
      ]
     },
     "execution_count": 101,
     "metadata": {},
     "output_type": "execute_result"
    }
   ],
   "source": [
    "player_stats('Jason Terry')"
   ]
  },
  {
   "cell_type": "code",
   "execution_count": 102,
   "metadata": {},
   "outputs": [
    {
     "data": {
      "text/plain": [
       "['Brooklyn Nets', 'Charlotte Hornets']"
      ]
     },
     "execution_count": 102,
     "metadata": {},
     "output_type": "execute_result"
    }
   ],
   "source": [
    "team_names()"
   ]
  },
  {
   "cell_type": "code",
   "execution_count": 103,
   "metadata": {},
   "outputs": [
    {
     "data": {
      "text/plain": [
       "[0, 30, 11, 1, 31]"
      ]
     },
     "execution_count": 103,
     "metadata": {},
     "output_type": "execute_result"
    }
   ],
   "source": [
    "player_numbers('Brooklyn Nets')"
   ]
  },
  {
   "cell_type": "code",
   "execution_count": 104,
   "metadata": {},
   "outputs": [
    {
     "data": {
      "text/plain": [
       "19"
      ]
     },
     "execution_count": 104,
     "metadata": {},
     "output_type": "execute_result"
    }
   ],
   "source": [
    "shoe_size(\"Mason Plumlee\")"
   ]
  },
  {
   "cell_type": "code",
   "execution_count": null,
   "metadata": {},
   "outputs": [],
   "source": []
  }
 ],
 "metadata": {
  "kernelspec": {
   "display_name": "learn-env",
   "language": "python",
   "name": "learn-env"
  },
  "language_info": {
   "codemirror_mode": {
    "name": "ipython",
    "version": 3
   },
   "file_extension": ".py",
   "mimetype": "text/x-python",
   "name": "python",
   "nbconvert_exporter": "python",
   "pygments_lexer": "ipython3",
   "version": "3.6.6"
  }
 },
 "nbformat": 4,
 "nbformat_minor": 2
}
